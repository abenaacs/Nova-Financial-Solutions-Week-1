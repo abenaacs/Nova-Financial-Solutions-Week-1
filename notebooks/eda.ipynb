{
 "cells": [
  {
   "cell_type": "code",
   "execution_count": 4,
   "id": "df7a0693",
   "metadata": {},
   "outputs": [],
   "source": [
    "### Financial News Sentiment Analysis and EDA Notebook\n",
    "# Import Libraries\n",
    "import pandas as pd\n",
    "import numpy as np\n",
    "import matplotlib.pyplot as plt\n",
    "import seaborn as sns\n",
    "from textblob import TextBlob\n",
    "from sklearn.feature_extraction.text import TfidfVectorizer\n",
    "from sklearn.decomposition import LatentDirichletAllocation\n",
    "import os\n",
    "import glob\n"
   ]
  },
  {
   "cell_type": "code",
   "execution_count": 125,
   "id": "b9b83cf1",
   "metadata": {},
   "outputs": [],
   "source": [
    "# Load Financial Data\n",
    "current_dir = os.getcwd()\n",
    "financial_data_path = os.path.join(current_dir, \"../data/yfinance_data\")\n",
    "all_files = glob.glob(os.path.join(financial_data_path, \"*.csv\"))\n",
    "\n",
    "financial_dfs = []\n",
    "for file in all_files:\n",
    "   try:\n",
    "        df = pd.read_csv(file)\n",
    "        stock_name = os.path.basename(file).split('.')[0]\n",
    "        df['stock'] = stock_name\n",
    "        financial_dfs.append(df)\n",
    "   except Exception as e:\n",
    "        print(f\"Error reading {file}: {e}\")"
   ]
  },
  {
   "cell_type": "code",
   "execution_count": 126,
   "id": "d649bb03",
   "metadata": {},
   "outputs": [],
   "source": [
    "financial_data = pd.concat(financial_dfs, ignore_index=True)"
   ]
  },
  {
   "cell_type": "code",
   "execution_count": 50,
   "id": "d595da53",
   "metadata": {},
   "outputs": [
    {
     "name": "stdout",
     "output_type": "stream",
     "text": [
      "Dataset Info:\n",
      "<class 'pandas.core.frame.DataFrame'>\n",
      "RangeIndex: 45428 entries, 0 to 45427\n",
      "Data columns (total 11 columns):\n",
      " #   Column            Non-Null Count  Dtype  \n",
      "---  ------            --------------  -----  \n",
      " 0   date              45428 non-null  object \n",
      " 1   open              45428 non-null  float64\n",
      " 2   high              45428 non-null  float64\n",
      " 3   low               45428 non-null  float64\n",
      " 4   close             45428 non-null  float64\n",
      " 5   adj close         45428 non-null  float64\n",
      " 6   volume            45428 non-null  int64  \n",
      " 7   dividends         45428 non-null  float64\n",
      " 8   stock splits      45428 non-null  float64\n",
      " 9   stock             45428 non-null  object \n",
      " 10  price_change_pct  45428 non-null  float64\n",
      "dtypes: float64(8), int64(1), object(2)\n",
      "memory usage: 3.8+ MB\n",
      "\n",
      "Dataset Preview:\n",
      "         date      open      high       low     close  adj close     volume  \\\n",
      "0  1980-12-12  0.128348  0.128906  0.128348  0.128348   0.098943  469033600   \n",
      "1  1980-12-15  0.122210  0.122210  0.121652  0.121652   0.093781  175884800   \n",
      "2  1980-12-16  0.113281  0.113281  0.112723  0.112723   0.086898  105728000   \n",
      "3  1980-12-17  0.115513  0.116071  0.115513  0.115513   0.089049   86441600   \n",
      "4  1980-12-18  0.118862  0.119420  0.118862  0.118862   0.091630   73449600   \n",
      "\n",
      "   dividends  stock splits stock  price_change_pct  \n",
      "0        0.0           0.0  AAPL          0.000000  \n",
      "1        0.0           0.0  AAPL         -0.456594  \n",
      "2        0.0           0.0  AAPL         -0.492577  \n",
      "3        0.0           0.0  AAPL          0.000000  \n",
      "4        0.0           0.0  AAPL          0.000000  \n"
     ]
    }
   ],
   "source": [
    "# Data Understanding\n",
    "print(\"Dataset Info:\")\n",
    "financial_data.info()\n",
    "print(\"\\nDataset Preview:\")\n",
    "print(financial_data.head())"
   ]
  },
  {
   "cell_type": "code",
   "execution_count": 51,
   "id": "082a8e51",
   "metadata": {},
   "outputs": [
    {
     "name": "stdout",
     "output_type": "stream",
     "text": [
      "\n",
      "Missing Values:\n",
      " date                0\n",
      "open                0\n",
      "high                0\n",
      "low                 0\n",
      "close               0\n",
      "adj close           0\n",
      "volume              0\n",
      "dividends           0\n",
      "stock splits        0\n",
      "stock               0\n",
      "price_change_pct    0\n",
      "dtype: int64\n"
     ]
    }
   ],
   "source": [
    "# Check Missing Values\n",
    "missing_values = financial_data.isnull().sum()\n",
    "print(\"\\nMissing Values:\\n\", missing_values)"
   ]
  },
  {
   "cell_type": "code",
   "execution_count": 123,
   "id": "9e663fd1",
   "metadata": {},
   "outputs": [],
   "source": [
    "# Preprocess Financial Data\n",
    "financial_data['date'] = pd.to_datetime(financial_data['date'])\n",
    "financial_data.rename(columns=str.lower, inplace=True)"
   ]
  },
  {
   "cell_type": "markdown",
   "id": "4f6d6c6b",
   "metadata": {},
   "source": []
  },
  {
   "cell_type": "code",
   "execution_count": 124,
   "id": "688f646d",
   "metadata": {},
   "outputs": [],
   "source": [
    "# Calculate Price Change Percentages\n",
    "financial_data['price_change_pct'] = ((financial_data['close'] - financial_data['open']) / financial_data['open']) * 100"
   ]
  },
  {
   "cell_type": "code",
   "execution_count": 21,
   "id": "6dc01fa8",
   "metadata": {},
   "outputs": [],
   "source": [
    "# Load Raw Analyst Data\n",
    "raw_data_analyst = os.path.join(current_dir, \"../data/raw_analyst_ratings/raw_analyst_ratings.csv\")\n",
    "analyst_data = pd.read_csv(raw_data_analyst)"
   ]
  },
  {
   "cell_type": "code",
   "execution_count": 61,
   "id": "0c0bba19",
   "metadata": {},
   "outputs": [],
   "source": [
    "# Preprocess Financial Data\n",
    "analyst_data['date'] = pd.to_datetime(analyst_data['date'])\n",
    "analyst_data.rename(columns=str.lower, inplace=True)"
   ]
  },
  {
   "cell_type": "code",
   "execution_count": 83,
   "id": "962d8816",
   "metadata": {},
   "outputs": [],
   "source": [
    "# Merge Analyst Data with Financial Data\n",
    "merged_data = pd.merge(\n",
    "    analyst_data, \n",
    "    financial_data, \n",
    "    left_on=['date', 'stock'], \n",
    "    right_on=['date', 'stock'], \n",
    "    how='inner'\n",
    ")\n"
   ]
  },
  {
   "cell_type": "code",
   "execution_count": 120,
   "id": "9a60081d",
   "metadata": {},
   "outputs": [],
   "source": [
    "# Drop unused columns\n",
    "merged_data.drop(columns=['date'], inplace=True)"
   ]
  },
  {
   "cell_type": "markdown",
   "id": "219c399c",
   "metadata": {},
   "source": [
    "### Descriptive Statistics"
   ]
  },
  {
   "cell_type": "code",
   "execution_count": 87,
   "id": "270c9bfb",
   "metadata": {},
   "outputs": [
    {
     "name": "stdout",
     "output_type": "stream",
     "text": [
      "\n",
      "Missing Values:\n",
      " unnamed: 0            0\n",
      "headline              0\n",
      "url                   0\n",
      "publisher             0\n",
      "stock                 0\n",
      "headline_length       0\n",
      "sentiment             0\n",
      "sentiment_category    0\n",
      "open                  0\n",
      "high                  0\n",
      "low                   0\n",
      "close                 0\n",
      "adj close             0\n",
      "volume                0\n",
      "dividends             0\n",
      "stock splits          0\n",
      "price_change_pct      0\n",
      "dtype: int64\n"
     ]
    }
   ],
   "source": [
    "# Check Missing Values\n",
    "missing_values = merged_data.isnull().sum()\n",
    "print(\"\\nMissing Values:\\n\", missing_values)"
   ]
  },
  {
   "cell_type": "code",
   "execution_count": 88,
   "id": "781e930e",
   "metadata": {},
   "outputs": [
    {
     "name": "stdout",
     "output_type": "stream",
     "text": [
      "\n",
      "Headline Length Statistics:\n",
      "count     49.000000\n",
      "mean      87.571429\n",
      "std       45.321077\n",
      "min       33.000000\n",
      "25%       56.000000\n",
      "50%       81.000000\n",
      "75%      106.000000\n",
      "max      216.000000\n",
      "Name: headline_length, dtype: float64\n"
     ]
    }
   ],
   "source": [
    "# Headline Length Analysis\n",
    "merged_data['headline_length'] = merged_data['headline'].apply(len)\n",
    "print(\"\\nHeadline Length Statistics:\")\n",
    "print(merged_data['headline_length'].describe())"
   ]
  },
  {
   "cell_type": "code",
   "execution_count": 89,
   "id": "fcded87f",
   "metadata": {},
   "outputs": [
    {
     "data": {
      "image/png": "[encoded data removed]",
      "text/plain": [
       "<Figure size 1000x600 with 1 Axes>"
      ]
     },
     "metadata": {},
     "output_type": "display_data"
    }
   ],
   "source": [
    "plt.figure(figsize=(10, 6))\n",
    "merged_data['headline_length'].hist(bins=30, color='skyblue', edgecolor='black')\n",
    "plt.title('Distribution of Headline Lengths')\n",
    "plt.xlabel('Headline Length')\n",
    "plt.ylabel('Frequency')\n",
    "plt.show()"
   ]
  },
  {
   "cell_type": "code",
   "execution_count": 90,
   "id": "4806dc22",
   "metadata": {},
   "outputs": [
    {
     "name": "stdout",
     "output_type": "stream",
     "text": [
      "\n",
      "Top 10 Publishers:\n",
      " publisher\n",
      "Benzinga Newsdesk    16\n",
      "Benzinga Insights     5\n",
      "Neer Varshney         5\n",
      "Benzinga Newsdesk     3\n",
      "Shivdeep Dhaliwal     3\n",
      "Shanthi Rexaline      3\n",
      "JJ Kinahan            2\n",
      "Jaycee Tenn           2\n",
      "Tanzeel Akhtar        2\n",
      "Priya Nigam           1\n",
      "Name: count, dtype: int64\n"
     ]
    },
    {
     "data": {
      "image/png": "[encoded data removed]",
      "text/plain": [
       "<Figure size 1000x600 with 1 Axes>"
      ]
     },
     "metadata": {},
     "output_type": "display_data"
    }
   ],
   "source": []
  },
  {
   "cell_type": "code",
   "execution_count": 101,
   "id": "12929835",
   "metadata": {},
   "outputs": [
    {
     "name": "stdout",
     "output_type": "stream",
     "text": [
      "        date\n",
      "0 2020-06-05\n",
      "1 2020-06-03\n",
      "2 2020-05-26\n",
      "3 2020-05-22\n",
      "4 2020-05-22\n",
      "        date\n",
      "0 1980-12-12\n",
      "1 1980-12-15\n",
      "2 1980-12-16\n",
      "3 1980-12-17\n",
      "4 1980-12-18\n"
     ]
    }
   ],
   "source": [
    "# Convert 'date' columns to datetime in both DataFrames\n",
    "analyst_data['date'] = pd.to_datetime(analyst_data['date'], errors='coerce')\n",
    "financial_data['date'] = pd.to_datetime(financial_data['date'], errors='coerce')\n",
    "\n",
    "\n"
   ]
  },
  {
   "cell_type": "code",
   "execution_count": 102,
   "id": "ea2f4b3e",
   "metadata": {},
   "outputs": [
    {
     "name": "stdout",
     "output_type": "stream",
     "text": [
      "   unnamed: 0                                           headline  \\\n",
      "0        7120  Tech Stocks And FAANGS Strong Again To Start D...   \n",
      "1        7121      10 Biggest Price Target Changes For Wednesday   \n",
      "2        7122  Benzinga Pro's Top 5 Stocks To Watch For Wed.,...   \n",
      "3        7123  Deutsche Bank Maintains Buy on Apple, Raises P...   \n",
      "4        7124  Apple To Let Users Trade In Their Mac Computer...   \n",
      "\n",
      "                                                 url          publisher  \\\n",
      "0  https://www.benzinga.com/government/20/06/1622...         JJ Kinahan   \n",
      "1  https://www.benzinga.com/analyst-ratings/price...         Lisa Levin   \n",
      "2  https://www.benzinga.com/short-sellers/20/06/1...  Benzinga Newsdesk   \n",
      "3  https://www.benzinga.com/news/20/06/16219873/d...  Benzinga Newsdesk   \n",
      "4  https://www.benzinga.com/news/20/06/16218697/a...      Neer Varshney   \n",
      "\n",
      "        date stock  headline_length  sentiment sentiment_category       open  \\\n",
      "0 2020-06-10  AAPL               69   0.433333           positive  86.974998   \n",
      "1 2020-06-10  AAPL               45   0.000000            neutral  86.974998   \n",
      "2 2020-06-10  AAPL               87   0.500000           positive  86.974998   \n",
      "3 2020-06-10  AAPL               65   0.000000            neutral  86.974998   \n",
      "4 2020-06-10  AAPL               87   0.000000            neutral  86.974998   \n",
      "\n",
      "        high        low      close  adj close     volume  dividends  \\\n",
      "0  88.692497  86.522499  88.209999  86.047615  166651600        0.0   \n",
      "1  88.692497  86.522499  88.209999  86.047615  166651600        0.0   \n",
      "2  88.692497  86.522499  88.209999  86.047615  166651600        0.0   \n",
      "3  88.692497  86.522499  88.209999  86.047615  166651600        0.0   \n",
      "4  88.692497  86.522499  88.209999  86.047615  166651600        0.0   \n",
      "\n",
      "   stock splits  price_change_pct  \n",
      "0           0.0          1.419949  \n",
      "1           0.0          1.419949  \n",
      "2           0.0          1.419949  \n",
      "3           0.0          1.419949  \n",
      "4           0.0          1.419949  \n"
     ]
    }
   ],
   "source": [
    "# Merge the data again after ensuring 'date' columns are in datetime format\n",
    "merged_data = pd.merge(\n",
    "    analyst_data,\n",
    "    financial_data,\n",
    "    left_on=['stock', 'date'],\n",
    "    right_on=['stock', 'date'],\n",
    "    how='inner'\n",
    ")\n",
    "\n",
    "# Check the merged data to verify\n",
    "print(merged_data.head())\n"
   ]
  },
  {
   "cell_type": "code",
   "execution_count": 103,
   "id": "000f32d8",
   "metadata": {},
   "outputs": [
    {
     "data": {
      "image/png": "[encoded data removed]",
      "text/plain": [
       "<Figure size 1400x700 with 1 Axes>"
      ]
     },
     "metadata": {},
     "output_type": "display_data"
    }
   ],
   "source": [
    "# Publication Date Trends\n",
    "daily_counts = merged_data['date'].dt.date.value_counts().sort_index()\n",
    "plt.figure(figsize=(14, 7))\n",
    "daily_counts.plot(kind='line', color='green')\n",
    "plt.title('Publication Trend Over Time')\n",
    "plt.xlabel('Date')\n",
    "plt.ylabel('Number of Articles')\n",
    "plt.show()"
   ]
  },
  {
   "cell_type": "markdown",
   "id": "62b87a02",
   "metadata": {},
   "source": [
    "### Sentiment Analysis"
   ]
  },
  {
   "cell_type": "code",
   "execution_count": 104,
   "id": "68d1a4a8",
   "metadata": {},
   "outputs": [],
   "source": [
    "# Add Sentiment Scores\n",
    "merged_data['sentiment'] = merged_data['headline'].apply(lambda x: TextBlob(x).sentiment.polarity)\n"
   ]
  },
  {
   "cell_type": "code",
   "execution_count": 105,
   "id": "236df302",
   "metadata": {},
   "outputs": [],
   "source": [
    "# Categorize Sentiment\n",
    "merged_data['sentiment_category'] = pd.cut(\n",
    "    merged_data['sentiment'], bins=[-1, -0.01, 0.01, 1], labels=['negative', 'neutral', 'positive']\n",
    ")\n"
   ]
  },
  {
   "cell_type": "code",
   "execution_count": 106,
   "id": "99f186d0",
   "metadata": {},
   "outputs": [
    {
     "name": "stdout",
     "output_type": "stream",
     "text": [
      "\n",
      "Sentiment Distribution:\n",
      " sentiment_category\n",
      "neutral     25\n",
      "positive    21\n",
      "negative     3\n",
      "Name: count, dtype: int64\n"
     ]
    }
   ],
   "source": [
    "# Sentiment Distribution\n",
    "sentiment_distribution = merged_data['sentiment_category'].value_counts()\n",
    "print(\"\\nSentiment Distribution:\\n\", sentiment_distribution)"
   ]
  },
  {
   "cell_type": "code",
   "execution_count": 107,
   "id": "ea6603e7",
   "metadata": {},
   "outputs": [
    {
     "data": {
      "image/png": "[encoded data removed]",
      "text/plain": [
       "<Figure size 800x500 with 1 Axes>"
      ]
     },
     "metadata": {},
     "output_type": "display_data"
    }
   ],
   "source": [
    "plt.figure(figsize=(8, 5))\n",
    "sentiment_distribution.plot(kind='bar', color='green', edgecolor='black')\n",
    "plt.title('Sentiment Distribution')\n",
    "plt.xlabel('Sentiment Category')\n",
    "plt.ylabel('Frequency')\n",
    "plt.show()"
   ]
  },
  {
   "cell_type": "code",
   "execution_count": 108,
   "id": "b3989aa3",
   "metadata": {},
   "outputs": [],
   "source": [
    "### Topic Modeling\n",
    "# Vectorize Headlines\n",
    "vectorizer = TfidfVectorizer(max_features=1000, stop_words='english')\n",
    "tfidf_matrix = vectorizer.fit_transform(merged_data['headline'])"
   ]
  },
  {
   "cell_type": "code",
   "execution_count": 109,
   "id": "5c17aa61",
   "metadata": {},
   "outputs": [
    {
     "data": {
      "text/html": [
       "<style>#sk-container-id-1 {\n",
       "  /* Definition of color scheme common for light and dark mode */\n",
       "  --sklearn-color-text: #000;\n",
       "  --sklearn-color-text-muted: #666;\n",
       "  --sklearn-color-line: gray;\n",
       "  /* Definition of color scheme for unfitted estimators */\n",
       "  --sklearn-color-unfitted-level-0: #fff5e6;\n",
       "  --sklearn-color-unfitted-level-1: #f6e4d2;\n",
       "  --sklearn-color-unfitted-level-2: #ffe0b3;\n",
       "  --sklearn-color-unfitted-level-3: chocolate;\n",
       "  /* Definition of color scheme for fitted estimators */\n",
       "  --sklearn-color-fitted-level-0: #f0f8ff;\n",
       "  --sklearn-color-fitted-level-1: #d4ebff;\n",
       "  --sklearn-color-fitted-level-2: #b3dbfd;\n",
       "  --sklearn-color-fitted-level-3: cornflowerblue;\n",
       "\n",
       "  /* Specific color for light theme */\n",
       "  --sklearn-color-text-on-default-background: var(--sg-text-color, var(--theme-code-foreground, var(--jp-content-font-color1, black)));\n",
       "  --sklearn-color-background: var(--sg-background-color, var(--theme-background, var(--jp-layout-color0, white)));\n",
       "  --sklearn-color-border-box: var(--sg-text-color, var(--theme-code-foreground, var(--jp-content-font-color1, black)));\n",
       "  --sklearn-color-icon: #696969;\n",
       "\n",
       "  @media (prefers-color-scheme: dark) {\n",
       "    /* Redefinition of color scheme for dark theme */\n",
       "    --sklearn-color-text-on-default-background: var(--sg-text-color, var(--theme-code-foreground, var(--jp-content-font-color1, white)));\n",
       "    --sklearn-color-background: var(--sg-background-color, var(--theme-background, var(--jp-layout-color0, #111)));\n",
       "    --sklearn-color-border-box: var(--sg-text-color, var(--theme-code-foreground, var(--jp-content-font-color1, white)));\n",
       "    --sklearn-color-icon: #878787;\n",
       "  }\n",
       "}\n",
       "\n",
       "#sk-container-id-1 {\n",
       "  color: var(--sklearn-color-text);\n",
       "}\n",
       "\n",
       "#sk-container-id-1 pre {\n",
       "  padding: 0;\n",
       "}\n",
       "\n",
       "#sk-container-id-1 input.sk-hidden--visually {\n",
       "  border: 0;\n",
       "  clip: rect(1px 1px 1px 1px);\n",
       "  clip: rect(1px, 1px, 1px, 1px);\n",
       "  height: 1px;\n",
       "  margin: -1px;\n",
       "  overflow: hidden;\n",
       "  padding: 0;\n",
       "  position: absolute;\n",
       "  width: 1px;\n",
       "}\n",
       "\n",
       "#sk-container-id-1 div.sk-dashed-wrapped {\n",
       "  border: 1px dashed var(--sklearn-color-line);\n",
       "  margin: 0 0.4em 0.5em 0.4em;\n",
       "  box-sizing: border-box;\n",
       "  padding-bottom: 0.4em;\n",
       "  background-color: var(--sklearn-color-background);\n",
       "}\n",
       "\n",
       "#sk-container-id-1 div.sk-container {\n",
       "  /* jupyter's `normalize.less` sets `[hidden] { display: none; }`\n",
       "     but bootstrap.min.css set `[hidden] { display: none !important; }`\n",
       "     so we also need the `!important` here to be able to override the\n",
       "     default hidden behavior on the sphinx rendered scikit-learn.org.\n",
       "     See: https://github.com/scikit-learn/scikit-learn/issues/21755 */\n",
       "  display: inline-block !important;\n",
       "  position: relative;\n",
       "}\n",
       "\n",
       "#sk-container-id-1 div.sk-text-repr-fallback {\n",
       "  display: none;\n",
       "}\n",
       "\n",
       "div.sk-parallel-item,\n",
       "div.sk-serial,\n",
       "div.sk-item {\n",
       "  /* draw centered vertical line to link estimators */\n",
       "  background-image: linear-gradient(var(--sklearn-color-text-on-default-background), var(--sklearn-color-text-on-default-background));\n",
       "  background-size: 2px 100%;\n",
       "  background-repeat: no-repeat;\n",
       "  background-position: center center;\n",
       "}\n",
       "\n",
       "/* Parallel-specific style estimator block */\n",
       "\n",
       "#sk-container-id-1 div.sk-parallel-item::after {\n",
       "  content: \"\";\n",
       "  width: 100%;\n",
       "  border-bottom: 2px solid var(--sklearn-color-text-on-default-background);\n",
       "  flex-grow: 1;\n",
       "}\n",
       "\n",
       "#sk-container-id-1 div.sk-parallel {\n",
       "  display: flex;\n",
       "  align-items: stretch;\n",
       "  justify-content: center;\n",
       "  background-color: var(--sklearn-color-background);\n",
       "  position: relative;\n",
       "}\n",
       "\n",
       "#sk-container-id-1 div.sk-parallel-item {\n",
       "  display: flex;\n",
       "  flex-direction: column;\n",
       "}\n",
       "\n",
       "#sk-container-id-1 div.sk-parallel-item:first-child::after {\n",
       "  align-self: flex-end;\n",
       "  width: 50%;\n",
       "}\n",
       "\n",
       "#sk-container-id-1 div.sk-parallel-item:last-child::after {\n",
       "  align-self: flex-start;\n",
       "  width: 50%;\n",
       "}\n",
       "\n",
       "#sk-container-id-1 div.sk-parallel-item:only-child::after {\n",
       "  width: 0;\n",
       "}\n",
       "\n",
       "/* Serial-specific style estimator block */\n",
       "\n",
       "#sk-container-id-1 div.sk-serial {\n",
       "  display: flex;\n",
       "  flex-direction: column;\n",
       "  align-items: center;\n",
       "  background-color: var(--sklearn-color-background);\n",
       "  padding-right: 1em;\n",
       "  padding-left: 1em;\n",
       "}\n",
       "\n",
       "\n",
       "/* Toggleable style: style used for estimator/Pipeline/ColumnTransformer box that is\n",
       "clickable and can be expanded/collapsed.\n",
       "- Pipeline and ColumnTransformer use this feature and define the default style\n",
       "- Estimators will overwrite some part of the style using the `sk-estimator` class\n",
       "*/\n",
       "\n",
       "/* Pipeline and ColumnTransformer style (default) */\n",
       "\n",
       "#sk-container-id-1 div.sk-toggleable {\n",
       "  /* Default theme specific background. It is overwritten whether we have a\n",
       "  specific estimator or a Pipeline/ColumnTransformer */\n",
       "  background-color: var(--sklearn-color-background);\n",
       "}\n",
       "\n",
       "/* Toggleable label */\n",
       "#sk-container-id-1 label.sk-toggleable__label {\n",
       "  cursor: pointer;\n",
       "  display: flex;\n",
       "  width: 100%;\n",
       "  margin-bottom: 0;\n",
       "  padding: 0.5em;\n",
       "  box-sizing: border-box;\n",
       "  text-align: center;\n",
       "  align-items: start;\n",
       "  justify-content: space-between;\n",
       "  gap: 0.5em;\n",
       "}\n",
       "\n",
       "#sk-container-id-1 label.sk-toggleable__label .caption {\n",
       "  font-size: 0.6rem;\n",
       "  font-weight: lighter;\n",
       "  color: var(--sklearn-color-text-muted);\n",
       "}\n",
       "\n",
       "#sk-container-id-1 label.sk-toggleable__label-arrow:before {\n",
       "  /* Arrow on the left of the label */\n",
       "  content: \"▸\";\n",
       "  float: left;\n",
       "  margin-right: 0.25em;\n",
       "  color: var(--sklearn-color-icon);\n",
       "}\n",
       "\n",
       "#sk-container-id-1 label.sk-toggleable__label-arrow:hover:before {\n",
       "  color: var(--sklearn-color-text);\n",
       "}\n",
       "\n",
       "/* Toggleable content - dropdown */\n",
       "\n",
       "#sk-container-id-1 div.sk-toggleable__content {\n",
       "  max-height: 0;\n",
       "  max-width: 0;\n",
       "  overflow: hidden;\n",
       "  text-align: left;\n",
       "  /* unfitted */\n",
       "  background-color: var(--sklearn-color-unfitted-level-0);\n",
       "}\n",
       "\n",
       "#sk-container-id-1 div.sk-toggleable__content.fitted {\n",
       "  /* fitted */\n",
       "  background-color: var(--sklearn-color-fitted-level-0);\n",
       "}\n",
       "\n",
       "#sk-container-id-1 div.sk-toggleable__content pre {\n",
       "  margin: 0.2em;\n",
       "  border-radius: 0.25em;\n",
       "  color: var(--sklearn-color-text);\n",
       "  /* unfitted */\n",
       "  background-color: var(--sklearn-color-unfitted-level-0);\n",
       "}\n",
       "\n",
       "#sk-container-id-1 div.sk-toggleable__content.fitted pre {\n",
       "  /* unfitted */\n",
       "  background-color: var(--sklearn-color-fitted-level-0);\n",
       "}\n",
       "\n",
       "#sk-container-id-1 input.sk-toggleable__control:checked~div.sk-toggleable__content {\n",
       "  /* Expand drop-down */\n",
       "  max-height: 200px;\n",
       "  max-width: 100%;\n",
       "  overflow: auto;\n",
       "}\n",
       "\n",
       "#sk-container-id-1 input.sk-toggleable__control:checked~label.sk-toggleable__label-arrow:before {\n",
       "  content: \"▾\";\n",
       "}\n",
       "\n",
       "/* Pipeline/ColumnTransformer-specific style */\n",
       "\n",
       "#sk-container-id-1 div.sk-label input.sk-toggleable__control:checked~label.sk-toggleable__label {\n",
       "  color: var(--sklearn-color-text);\n",
       "  background-color: var(--sklearn-color-unfitted-level-2);\n",
       "}\n",
       "\n",
       "#sk-container-id-1 div.sk-label.fitted input.sk-toggleable__control:checked~label.sk-toggleable__label {\n",
       "  background-color: var(--sklearn-color-fitted-level-2);\n",
       "}\n",
       "\n",
       "/* Estimator-specific style */\n",
       "\n",
       "/* Colorize estimator box */\n",
       "#sk-container-id-1 div.sk-estimator input.sk-toggleable__control:checked~label.sk-toggleable__label {\n",
       "  /* unfitted */\n",
       "  background-color: var(--sklearn-color-unfitted-level-2);\n",
       "}\n",
       "\n",
       "#sk-container-id-1 div.sk-estimator.fitted input.sk-toggleable__control:checked~label.sk-toggleable__label {\n",
       "  /* fitted */\n",
       "  background-color: var(--sklearn-color-fitted-level-2);\n",
       "}\n",
       "\n",
       "#sk-container-id-1 div.sk-label label.sk-toggleable__label,\n",
       "#sk-container-id-1 div.sk-label label {\n",
       "  /* The background is the default theme color */\n",
       "  color: var(--sklearn-color-text-on-default-background);\n",
       "}\n",
       "\n",
       "/* On hover, darken the color of the background */\n",
       "#sk-container-id-1 div.sk-label:hover label.sk-toggleable__label {\n",
       "  color: var(--sklearn-color-text);\n",
       "  background-color: var(--sklearn-color-unfitted-level-2);\n",
       "}\n",
       "\n",
       "/* Label box, darken color on hover, fitted */\n",
       "#sk-container-id-1 div.sk-label.fitted:hover label.sk-toggleable__label.fitted {\n",
       "  color: var(--sklearn-color-text);\n",
       "  background-color: var(--sklearn-color-fitted-level-2);\n",
       "}\n",
       "\n",
       "/* Estimator label */\n",
       "\n",
       "#sk-container-id-1 div.sk-label label {\n",
       "  font-family: monospace;\n",
       "  font-weight: bold;\n",
       "  display: inline-block;\n",
       "  line-height: 1.2em;\n",
       "}\n",
       "\n",
       "#sk-container-id-1 div.sk-label-container {\n",
       "  text-align: center;\n",
       "}\n",
       "\n",
       "/* Estimator-specific */\n",
       "#sk-container-id-1 div.sk-estimator {\n",
       "  font-family: monospace;\n",
       "  border: 1px dotted var(--sklearn-color-border-box);\n",
       "  border-radius: 0.25em;\n",
       "  box-sizing: border-box;\n",
       "  margin-bottom: 0.5em;\n",
       "  /* unfitted */\n",
       "  background-color: var(--sklearn-color-unfitted-level-0);\n",
       "}\n",
       "\n",
       "#sk-container-id-1 div.sk-estimator.fitted {\n",
       "  /* fitted */\n",
       "  background-color: var(--sklearn-color-fitted-level-0);\n",
       "}\n",
       "\n",
       "/* on hover */\n",
       "#sk-container-id-1 div.sk-estimator:hover {\n",
       "  /* unfitted */\n",
       "  background-color: var(--sklearn-color-unfitted-level-2);\n",
       "}\n",
       "\n",
       "#sk-container-id-1 div.sk-estimator.fitted:hover {\n",
       "  /* fitted */\n",
       "  background-color: var(--sklearn-color-fitted-level-2);\n",
       "}\n",
       "\n",
       "/* Specification for estimator info (e.g. \"i\" and \"?\") */\n",
       "\n",
       "/* Common style for \"i\" and \"?\" */\n",
       "\n",
       ".sk-estimator-doc-link,\n",
       "a:link.sk-estimator-doc-link,\n",
       "a:visited.sk-estimator-doc-link {\n",
       "  float: right;\n",
       "  font-size: smaller;\n",
       "  line-height: 1em;\n",
       "  font-family: monospace;\n",
       "  background-color: var(--sklearn-color-background);\n",
       "  border-radius: 1em;\n",
       "  height: 1em;\n",
       "  width: 1em;\n",
       "  text-decoration: none !important;\n",
       "  margin-left: 0.5em;\n",
       "  text-align: center;\n",
       "  /* unfitted */\n",
       "  border: var(--sklearn-color-unfitted-level-1) 1pt solid;\n",
       "  color: var(--sklearn-color-unfitted-level-1);\n",
       "}\n",
       "\n",
       ".sk-estimator-doc-link.fitted,\n",
       "a:link.sk-estimator-doc-link.fitted,\n",
       "a:visited.sk-estimator-doc-link.fitted {\n",
       "  /* fitted */\n",
       "  border: var(--sklearn-color-fitted-level-1) 1pt solid;\n",
       "  color: var(--sklearn-color-fitted-level-1);\n",
       "}\n",
       "\n",
       "/* On hover */\n",
       "div.sk-estimator:hover .sk-estimator-doc-link:hover,\n",
       ".sk-estimator-doc-link:hover,\n",
       "div.sk-label-container:hover .sk-estimator-doc-link:hover,\n",
       ".sk-estimator-doc-link:hover {\n",
       "  /* unfitted */\n",
       "  background-color: var(--sklearn-color-unfitted-level-3);\n",
       "  color: var(--sklearn-color-background);\n",
       "  text-decoration: none;\n",
       "}\n",
       "\n",
       "div.sk-estimator.fitted:hover .sk-estimator-doc-link.fitted:hover,\n",
       ".sk-estimator-doc-link.fitted:hover,\n",
       "div.sk-label-container:hover .sk-estimator-doc-link.fitted:hover,\n",
       ".sk-estimator-doc-link.fitted:hover {\n",
       "  /* fitted */\n",
       "  background-color: var(--sklearn-color-fitted-level-3);\n",
       "  color: var(--sklearn-color-background);\n",
       "  text-decoration: none;\n",
       "}\n",
       "\n",
       "/* Span, style for the box shown on hovering the info icon */\n",
       ".sk-estimator-doc-link span {\n",
       "  display: none;\n",
       "  z-index: 9999;\n",
       "  position: relative;\n",
       "  font-weight: normal;\n",
       "  right: .2ex;\n",
       "  padding: .5ex;\n",
       "  margin: .5ex;\n",
       "  width: min-content;\n",
       "  min-width: 20ex;\n",
       "  max-width: 50ex;\n",
       "  color: var(--sklearn-color-text);\n",
       "  box-shadow: 2pt 2pt 4pt #999;\n",
       "  /* unfitted */\n",
       "  background: var(--sklearn-color-unfitted-level-0);\n",
       "  border: .5pt solid var(--sklearn-color-unfitted-level-3);\n",
       "}\n",
       "\n",
       ".sk-estimator-doc-link.fitted span {\n",
       "  /* fitted */\n",
       "  background: var(--sklearn-color-fitted-level-0);\n",
       "  border: var(--sklearn-color-fitted-level-3);\n",
       "}\n",
       "\n",
       ".sk-estimator-doc-link:hover span {\n",
       "  display: block;\n",
       "}\n",
       "\n",
       "/* \"?\"-specific style due to the `<a>` HTML tag */\n",
       "\n",
       "#sk-container-id-1 a.estimator_doc_link {\n",
       "  float: right;\n",
       "  font-size: 1rem;\n",
       "  line-height: 1em;\n",
       "  font-family: monospace;\n",
       "  background-color: var(--sklearn-color-background);\n",
       "  border-radius: 1rem;\n",
       "  height: 1rem;\n",
       "  width: 1rem;\n",
       "  text-decoration: none;\n",
       "  /* unfitted */\n",
       "  color: var(--sklearn-color-unfitted-level-1);\n",
       "  border: var(--sklearn-color-unfitted-level-1) 1pt solid;\n",
       "}\n",
       "\n",
       "#sk-container-id-1 a.estimator_doc_link.fitted {\n",
       "  /* fitted */\n",
       "  border: var(--sklearn-color-fitted-level-1) 1pt solid;\n",
       "  color: var(--sklearn-color-fitted-level-1);\n",
       "}\n",
       "\n",
       "/* On hover */\n",
       "#sk-container-id-1 a.estimator_doc_link:hover {\n",
       "  /* unfitted */\n",
       "  background-color: var(--sklearn-color-unfitted-level-3);\n",
       "  color: var(--sklearn-color-background);\n",
       "  text-decoration: none;\n",
       "}\n",
       "\n",
       "#sk-container-id-1 a.estimator_doc_link.fitted:hover {\n",
       "  /* fitted */\n",
       "  background-color: var(--sklearn-color-fitted-level-3);\n",
       "}\n",
       "</style><div id=\"sk-container-id-1\" class=\"sk-top-container\"><div class=\"sk-text-repr-fallback\"><pre>LatentDirichletAllocation(n_components=5, random_state=42)</pre><b>In a Jupyter environment, please rerun this cell to show the HTML representation or trust the notebook. <br />On GitHub, the HTML representation is unable to render, please try loading this page with nbviewer.org.</b></div><div class=\"sk-container\" hidden><div class=\"sk-item\"><div class=\"sk-estimator fitted sk-toggleable\"><input class=\"sk-toggleable__control sk-hidden--visually\" id=\"sk-estimator-id-1\" type=\"checkbox\" checked><label for=\"sk-estimator-id-1\" class=\"sk-toggleable__label fitted sk-toggleable__label-arrow\"><div><div>LatentDirichletAllocation</div></div><div><a class=\"sk-estimator-doc-link fitted\" rel=\"noreferrer\" target=\"_blank\" href=\"https://scikit-learn.org/1.6/modules/generated/sklearn.decomposition.LatentDirichletAllocation.html\">?<span>Documentation for LatentDirichletAllocation</span></a><span class=\"sk-estimator-doc-link fitted\">i<span>Fitted</span></span></div></label><div class=\"sk-toggleable__content fitted\"><pre>LatentDirichletAllocation(n_components=5, random_state=42)</pre></div> </div></div></div></div>"
      ],
      "text/plain": [
       "LatentDirichletAllocation(n_components=5, random_state=42)"
      ]
     },
     "execution_count": 109,
     "metadata": {},
     "output_type": "execute_result"
    }
   ],
   "source": [
    "# Apply LDA\n",
    "lda = LatentDirichletAllocation(n_components=5, random_state=42)\n",
    "lda.fit(tfidf_matrix)"
   ]
  },
  {
   "cell_type": "code",
   "execution_count": 110,
   "id": "aa15d249",
   "metadata": {},
   "outputs": [
    {
     "name": "stdout",
     "output_type": "stream",
     "text": [
      "\n",
      "Topics Identified:\n",
      "Topic 1:\n",
      "['big', 'reaches', 'record', 'tech', 'new', 'morning', 'afternoon', 'market', 'minutes', 'stats']\n",
      "Topic 2:\n",
      "['mark', 'twitter', 'juneteenth', 'culture', 'holiday', 'african', 'american', 'honor', 'square', 'stocks']\n",
      "Topic 3:\n",
      "['cannabis', 'marketing', 'cannaphyll', 'platforms', 'mass', 'consumer', '000', 'target', 'tesla', 'amazon']\n",
      "Topic 4:\n",
      "['ramp', 'market', 'tech', 'stocks', 'start', 'strong', 'day', 'faangs', 'fed', 'awaits']\n",
      "Topic 5:\n",
      "['tesla', 'market', 'apple', 'stock', 'company', 'weakness', 'despite', 'shares', 'higher', 'trading']\n"
     ]
    }
   ],
   "source": [
    "# Display Topics\n",
    "print(\"\\nTopics Identified:\")\n",
    "for idx, topic in enumerate(lda.components_):\n",
    "    print(f\"Topic {idx+1}:\")\n",
    "    print([vectorizer.get_feature_names_out()[i] for i in topic.argsort()[-10:]])\n"
   ]
  },
  {
   "cell_type": "markdown",
   "id": "5ad84bed",
   "metadata": {},
   "source": [
    "### Time Series Analysis"
   ]
  },
  {
   "cell_type": "code",
   "execution_count": 116,
   "id": "8cfd4b4d",
   "metadata": {},
   "outputs": [
    {
     "data": {
      "image/png": "[encoded data removed]",
      "text/plain": [
       "<Figure size 1000x600 with 1 Axes>"
      ]
     },
     "metadata": {},
     "output_type": "display_data"
    }
   ],
   "source": [
    "# Publication Hour Analysis\n",
    "hourly_counts = merged_data['date'].dt.hour.value_counts().sort_index()\n",
    "plt.figure(figsize=(10, 6))\n",
    "hourly_counts.plot(kind='bar', color='green')\n",
    "plt.title('Publication Frequency by Hour')\n",
    "plt.xlabel('Hour of Day')\n",
    "plt.ylabel('Number of Articles')\n",
    "plt.show()"
   ]
  },
  {
   "cell_type": "markdown",
   "id": "bd2acca7",
   "metadata": {},
   "source": [
    "### Correlation with Market Data"
   ]
  },
  {
   "cell_type": "code",
   "execution_count": 118,
   "id": "3c1af46b",
   "metadata": {},
   "outputs": [],
   "source": [
    "# Calculate Price Change\n",
    "merged_data['price_change'] = merged_data['close'] - merged_data['open']"
   ]
  },
  {
   "cell_type": "code",
   "execution_count": 119,
   "id": "2afb235b",
   "metadata": {},
   "outputs": [
    {
     "name": "stdout",
     "output_type": "stream",
     "text": [
      "\n",
      "Correlation Between Sentiment and Price Change:\n",
      "               sentiment  price_change\n",
      "sentiment      1.000000     -0.184013\n",
      "price_change  -0.184013      1.000000\n"
     ]
    }
   ],
   "source": [
    "# Correlation Analysis\n",
    "sentiment_correlation = merged_data[['sentiment', 'price_change']].corr()\n",
    "print(\"\\nCorrelation Between Sentiment and Price Change:\\n\", sentiment_correlation)"
   ]
  },
  {
   "cell_type": "code",
   "execution_count": 122,
   "id": "644982d2",
   "metadata": {},
   "outputs": [
    {
     "name": "stdout",
     "output_type": "stream",
     "text": [
      "Data saved to c:\\Users\\hp\\Desktop\\Academic_Folders\\Kifiya AI Mastery\\week 1\\Nova-Financial-Solutions\\notebooks\\../data/processed_data\\processed_financial_news.csv\n"
     ]
    }
   ],
   "source": [
    "### Save Processed Data\n",
    "processed_data_path = os.path.join(current_dir, \"../data/processed_data\")\n",
    "file_path = os.path.join(processed_data_path, \"processed_financial_news.csv\")\n",
    "# Save the merged data to the file\n",
    "merged_data.to_csv(file_path, index=False)\n",
    "\n",
    "print(f\"Data saved to {file_path}\")\n"
   ]
  },
  {
   "cell_type": "code",
   "execution_count": null,
   "id": "a6403d6f",
   "metadata": {},
   "outputs": [],
   "source": []
  },
  {
   "cell_type": "code",
   "execution_count": null,
   "id": "aea0a43c",
   "metadata": {},
   "outputs": [],
   "source": []
  }
 ],
 "metadata": {
  "kernelspec": {
   "display_name": "env",
   "language": "python",
   "name": "python3"
  },
  "language_info": {
   "codemirror_mode": {
    "name": "ipython",
    "version": 3
   },
   "file_extension": ".py",
   "mimetype": "text/x-python",
   "name": "python",
   "nbconvert_exporter": "python",
   "pygments_lexer": "ipython3",
   "version": "3.11.9"
  }
 },
 "nbformat": 4,
 "nbformat_minor": 5
}
